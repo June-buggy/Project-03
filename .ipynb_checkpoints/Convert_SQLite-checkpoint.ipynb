{
 "cells": [
  {
   "cell_type": "markdown",
   "id": "a8901828",
   "metadata": {},
   "source": [
    "### Step 1: Import the Required Modules\n"
   ]
  },
  {
   "cell_type": "code",
   "execution_count": 2,
   "id": "be1072d6",
   "metadata": {
    "scrolled": true
   },
   "outputs": [],
   "source": [
    "import csv\n",
    "import sqlite3"
   ]
  },
  {
   "cell_type": "markdown",
   "id": "49c11452",
   "metadata": {},
   "source": [
    "### Step 2: Read Data from CSV File"
   ]
  },
  {
   "cell_type": "code",
   "execution_count": 5,
   "id": "9065cd42",
   "metadata": {},
   "outputs": [],
   "source": [
    "csv_file = 'Resources/dataset.csv'  # Replace 'data.csv' with the path to your CSV file\n",
    "data = []\n",
    "with open(csv_file, 'r') as file:\n",
    "    csv_reader = csv.reader(file)\n",
    "    for row in csv_reader:\n",
    "        data.append(tuple(row))"
   ]
  },
  {
   "cell_type": "markdown",
   "id": "caf4ca77",
   "metadata": {},
   "source": [
    "### Step 3: Connect to SQLite Database"
   ]
  },
  {
   "cell_type": "code",
   "execution_count": 8,
   "id": "a171f7da",
   "metadata": {},
   "outputs": [],
   "source": [
    "database_file = 'database.db'  # Replace 'database.db' with the desired database file name\n",
    "connection = sqlite3.connect(database_file)"
   ]
  },
  {
   "cell_type": "markdown",
   "id": "050ab289",
   "metadata": {},
   "source": [
    "### Step 4: Create a Cursor Object and Execute SQL Statements\n"
   ]
  },
  {
   "cell_type": "code",
   "execution_count": 13,
   "id": "a83c5f77",
   "metadata": {},
   "outputs": [],
   "source": [
    "cursor = connection.cursor()\n",
    "# Create a table (change column names and data types as per your CSV file)\n",
    "cursor.execute(\n",
    "'''CREATE TABLE IF NOT EXISTS Spotify_Dataset1\n",
    "(   track_key int,\n",
    "\ttrack_id\tvarchar(100)  ,\n",
    "\tartists\tvarchar(500) ,\n",
    "\talbum_name\tvarchar(500) ,\n",
    "\ttrack_name\tvarchar(500) ,\n",
    "\tpopularity\tInteger ,\n",
    "\tduration_ms\tInteger ,\n",
    "\texplicit\tBoolean ,\n",
    "\tdanceability\tFloat ,\n",
    "\tenergy\tFloat ,\n",
    "\tkey\tInteger ,\n",
    "\tloudness\tFloat ,\n",
    "\tmode\tInteger ,\n",
    "\tspeechiness\tFloat ,\n",
    "\tacousticness\tFloat ,\n",
    "\tinstrumentalness\tFloat ,\n",
    "\tliveness\tFloat ,\n",
    "\tvalence\tFloat ,\n",
    "\ttempo\tFloat ,\n",
    "\ttime_signature\tInteger ,\n",
    "\ttrack_genre\tvarchar\n",
    ")''')\n",
    "\n",
    "# Insert data into the table\n",
    "cursor.executemany('''INSERT INTO Spotify_Dataset1 (track_key, track_id, artists, album_name, track_name, popularity, duration_ms, explicit, danceability, energy, key, loudness, mode, speechiness, acousticness, instrumentalness, liveness, valence, tempo, time_signature, track_genre)\n",
    "                    VALUES (?, ?, ?, ?, ?, ?, ?, ?, ?, ?, ?, ?, ?, ?, ?, ?, ?, ?, ?, ?, ?)''', data)\n",
    "\n",
    "# Commit the changes and close the connection\n",
    "connection.commit()\n",
    "connection.close()"
   ]
  }
 ],
 "metadata": {
  "kernelspec": {
   "display_name": "Python 3 (ipykernel)",
   "language": "python",
   "name": "python3"
  },
  "language_info": {
   "codemirror_mode": {
    "name": "ipython",
    "version": 3
   },
   "file_extension": ".py",
   "mimetype": "text/x-python",
   "name": "python",
   "nbconvert_exporter": "python",
   "pygments_lexer": "ipython3",
   "version": "3.10.12"
  }
 },
 "nbformat": 4,
 "nbformat_minor": 5
}
