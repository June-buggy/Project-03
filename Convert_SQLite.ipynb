{
 "cells": [
  {
   "cell_type": "markdown",
   "id": "cd526898",
   "metadata": {},
   "source": [
    "### Step 1: Import the Required Modules\n"
   ]
  },
  {
   "cell_type": "code",
   "execution_count": 1,
   "id": "a0d23766",
   "metadata": {
    "scrolled": true
   },
   "outputs": [],
   "source": [
    "import csv\n",
    "import sqlite3"
   ]
  },
  {
   "cell_type": "markdown",
   "id": "657c04d4",
   "metadata": {},
   "source": [
    "### Step 2: Read Data from CSV File"
   ]
  },
  {
   "cell_type": "code",
   "execution_count": 2,
   "id": "941ed878",
   "metadata": {},
   "outputs": [],
   "source": [
    "csv_file = 'Resources/dataset.csv'  \n",
    "data = []\n",
    "with open(csv_file, 'r') as file:\n",
    "    csv_reader = csv.reader(file)\n",
    "    for row in csv_reader:\n",
    "        data.append(tuple(row))"
   ]
  },
  {
   "cell_type": "markdown",
   "id": "9f188931",
   "metadata": {},
   "source": [
    "### Step 3: Connect to SQLite Database"
   ]
  },
  {
   "cell_type": "code",
   "execution_count": 3,
   "id": "8e937bdd",
   "metadata": {},
   "outputs": [],
   "source": [
    "database_file = 'database.sqlite'  # Creates one if it doesnt already exist\n",
    "connection = sqlite3.connect(database_file)"
   ]
  },
  {
   "cell_type": "markdown",
   "id": "5500f46d",
   "metadata": {},
   "source": [
    "### Step 4: Create a Cursor Object and Execute SQL Statements\n"
   ]
  },
  {
   "cell_type": "code",
   "execution_count": 4,
   "id": "0b618ac4",
   "metadata": {},
   "outputs": [],
   "source": [
    "cursor = connection.cursor()\n",
    "cursor.execute(\n",
    "'''CREATE TABLE IF NOT EXISTS Spotify_Dataset1\n",
    "(   track_key int,\n",
    "\ttrack_id\tvarchar(100)  ,\n",
    "\tartists\tvarchar(500) ,\n",
    "\talbum_name\tvarchar(500) ,\n",
    "\ttrack_name\tvarchar(500) ,\n",
    "\tpopularity\tInteger ,\n",
    "\tduration_ms\tInteger ,\n",
    "\texplicit\tBoolean ,\n",
    "\tdanceability\tFloat ,\n",
    "\tenergy\tFloat ,\n",
    "\tkey\tInteger ,\n",
    "\tloudness\tFloat ,\n",
    "\tmode\tInteger ,\n",
    "\tspeechiness\tFloat ,\n",
    "\tacousticness\tFloat ,\n",
    "\tinstrumentalness\tFloat ,\n",
    "\tliveness\tFloat ,\n",
    "\tvalence\tFloat ,\n",
    "\ttempo\tFloat ,\n",
    "\ttime_signature\tInteger ,\n",
    "\ttrack_genre\tvarchar\n",
    ")''')\n",
    "\n",
    "# Insert data into the table\n",
    "cursor.executemany('''INSERT INTO Spotify_Dataset1 (track_key, track_id, artists, album_name, track_name, popularity, duration_ms, explicit, danceability, energy, key, loudness, mode, speechiness, acousticness, instrumentalness, liveness, valence, tempo, time_signature, track_genre)\n",
    "                    VALUES (?, ?, ?, ?, ?, ?, ?, ?, ?, ?, ?, ?, ?, ?, ?, ?, ?, ?, ?, ?, ?)''', data)\n",
    "\n",
    "# Commit the changes and close the connection\n",
    "connection.commit()\n",
    "connection.close()"
   ]
  },
  {
   "cell_type": "code",
   "execution_count": null,
   "id": "3eb9f773",
   "metadata": {},
   "outputs": [],
   "source": []
  }
 ],
 "metadata": {
  "kernelspec": {
   "display_name": "Python 3 (ipykernel)",
   "language": "python",
   "name": "python3"
  },
  "language_info": {
   "codemirror_mode": {
    "name": "ipython",
    "version": 3
   },
   "file_extension": ".py",
   "mimetype": "text/x-python",
   "name": "python",
   "nbconvert_exporter": "python",
   "pygments_lexer": "ipython3",
   "version": "3.10.12"
  }
 },
 "nbformat": 4,
 "nbformat_minor": 5
}
