{
 "cells": [
  {
   "cell_type": "code",
   "execution_count": 1,
   "metadata": {},
   "outputs": [],
   "source": [
    "# Imports and Initialization\n",
    "from flask import Flask, redirect, request, jsonify\n",
    "import requests\n",
    "from config.py import\n",
    "\n",
    "app = Flask(__name__)\n",
    "app.secret_key = 'your_secret_key'  # Change this to a random secret key\n",
    "\n",
    "CLIENT_ID = 'YOUR_CLIENT_ID'\n",
    "CLIENT_SECRET = 'YOUR_CLIENT_SECRET'\n",
    "REDIRECT_URI = 'http://localhost:5000/callback'\n"
   ]
  },
  {
   "cell_type": "code",
   "execution_count": null,
   "metadata": {},
   "outputs": [],
   "source": [
    "#OAuth Routes\n",
    "@app.route('/')\n",
    "def index():\n",
    "    # Redirect users to Spotify's authorization page\n",
    "    return redirect(f'https://accounts.spotify.com/authorize?client_id={CLIENT_ID}&redirect_uri={REDIRECT_URI}&response_type=code&scope=user-read-private user-read-email')\n",
    "\n",
    "@app.route('/callback')\n",
    "def callback():\n",
    "    # Handle the callback from Spotify after user grants permission\n",
    "    code = request.args.get('code')\n",
    "    if code:\n",
    "        # Exchange authorization code for access token\n",
    "        response = requests.post('https://accounts.spotify.com/api/token', data={\n",
    "            'grant_type': 'authorization_code',\n",
    "            'code': code,\n",
    "            'redirect_uri': REDIRECT_URI,\n",
    "            'client_id': CLIENT_ID,\n",
    "            'client_secret': CLIENT_SECRET,\n",
    "        })\n",
    "        if response.status_code == 200:\n",
    "            # Extract access token from response\n",
    "            access_token = response.json().get('access_token')\n",
    "            # Store the access token securely, usually in session or database\n",
    "            # Make API requests using this access token\n",
    "            print(\"Successfully connected to Spotify!\")\n",
    "            print(\"Access Token:\", access_token)\n",
    "        else:\n",
    "            print(\"Failed to obtain access token. Check your client credentials.\")\n",
    "    else:\n",
    "        print(\"Failed to receive authorization code from Spotify.\")\n",
    "    return 'Authorization Complete'\n"
   ]
  },
  {
   "cell_type": "code",
   "execution_count": null,
   "metadata": {},
   "outputs": [],
   "source": [
    "#Run Flask\n",
    "if __name__ == '__main__':\n",
    "    app.run(debug=True)\n"
   ]
  }
 ],
 "metadata": {
  "kernelspec": {
   "display_name": "Python 3 (ipykernel)",
   "language": "python",
   "name": "python3"
  },
  "language_info": {
   "codemirror_mode": {
    "name": "ipython",
    "version": 3
   },
   "file_extension": ".py",
   "mimetype": "text/x-python",
   "name": "python",
   "nbconvert_exporter": "python",
   "pygments_lexer": "ipython3",
   "version": "3.10.4"
  }
 },
 "nbformat": 4,
 "nbformat_minor": 4
}
